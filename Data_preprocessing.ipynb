{
 "cells": [
  {
   "cell_type": "code",
   "execution_count": 1,
   "metadata": {
    "collapsed": false
   },
   "outputs": [],
   "source": [
    "import os\n",
    "import numpy as np\n",
    "import h5py\n",
    "import random\n",
    "from PIL import Image\n",
    "import tensorflow as tf\n",
    "import meta"
   ]
  },
  {
   "cell_type": "code",
   "execution_count": 10,
   "metadata": {
    "collapsed": false
   },
   "outputs": [],
   "source": [
    "path_train = 'data/train'\n",
    "path_test = 'data/test'\n",
    "path_extra = 'data/extra'"
   ]
  },
  {
   "cell_type": "code",
   "execution_count": 11,
   "metadata": {
    "collapsed": true
   },
   "outputs": [],
   "source": [
    "def process_image(path_image_file, left, top, width, height):\n",
    "    image = Image.open(path_image_file)\n",
    "    crop_left, crop_top, crop_width, crop_height = (\n",
    "        int(round(left - 0.15 * width)), int(round(top - 0.15 * height)),\n",
    "        int(round(width * 1.3)), int(round(height * 1.3))\n",
    "    )\n",
    "    image = image.crop([crop_left, crop_top, crop_left + crop_width, crop_top + crop_height])\n",
    "    image.resize([64, 64])\n",
    "    return image"
   ]
  },
  {
   "cell_type": "code",
   "execution_count": 15,
   "metadata": {
    "collapsed": false
   },
   "outputs": [],
   "source": [
    "def convert_mat_file(path_image_file, path_mat_file):\n",
    "    index = int(path_image_file.split('/')[-1].split('.')[0]) - 1\n",
    "    mat_file = h5py.File(path_mat_file, 'r')\n",
    "    mat_file_item = mat_file['digitStruct']['bbox'][index].item()\n",
    "    image_attributes = {}\n",
    "    keys = ['label', 'left', 'top', 'width', 'height']\n",
    "    for key in keys:\n",
    "        attribute = mat_file[mat_file_item][key]\n",
    "        image_attributes[key] = [mat_file[attribute.value[i].item()].value[0][0] \n",
    "                                 for i in range(len(attribute))] if len(attribute) > 1 else [attribute.value[0][0]]\n",
    "    digit_labels = image_attributes['label']\n",
    "    num_digit_labels = len(digit_labels)\n",
    "    if num_digit_labels > 5:\n",
    "        # ignore this example\n",
    "        return None\n",
    "    \n",
    "    digits = [10, 10, 10, 10, 10]\n",
    "    for i, digit_label in enumerate(digits):\n",
    "            digits[i] = int(digit_label if digit_label != 10 else 0)\n",
    "    image_attributes_left, image_attributes_top, image_attributes_width, image_attributes_height = map(\n",
    "        lambda x: [int(i) for i in x], [image_attributes['left'], image_attributes['top'], image_attributes['width'], image_attributes['height']]\n",
    "    )\n",
    "    min_attributes_left = min(image_attributes_left)\n",
    "    min_attributes_top = min(image_attributes_top)\n",
    "    max_attributes_right = max(map(lambda x, y: x + y, image_attributes_left, image_attributes_width))\n",
    "    max_attributes_bottom = max(map(lambda x, y: x + y, image_attributes_top, image_attributes_height))\n",
    "    center_x = float(min_attributes_left + max_attributes_right) / 2.0\n",
    "    center_y = float(min_attributes_top + max_attributes_bottom) / 2.0\n",
    "    max_width = float(max(max_attributes_right - min_attributes_left, max_attributes_bottom - min_attributes_top))\n",
    "    image_left, image_right, image_width, image_height = (\n",
    "        center_x - max_width / 2.0, center_y - max_width / 2.0, max_width, max_width\n",
    "    )\n",
    "    image = np.array(process_image(path_image_file, image_left, image_right, image_width, image_height)).tobytes()\n",
    "    tf_example = tf.train.Example(features=tf.train.Features(\n",
    "            feature={\n",
    "                'image': tf.train.Feature(bytes_list=tf.train.BytesList(value=[image])),\n",
    "                'num_digit_labels': tf.train.Feature(int64_list=tf.train.Int64List(value=[num_digit_labels])),\n",
    "                'digits': tf.train.Feature(int64_list=tf.train.Int64List(value=digits))\n",
    "            }\n",
    "        ))\n",
    "    return tf_example"
   ]
  },
  {
   "cell_type": "code",
   "execution_count": 13,
   "metadata": {
    "collapsed": false
   },
   "outputs": [],
   "source": [
    "def convert_to_tfrecord(file_path):\n",
    "    path_mat_file = os.path.join(file_path, 'digitStruct.mat')\n",
    "    path_tfrecord_file = os.path.join(file_path, file_path.split('/')[-1] + '.tfrecords')\n",
    "    print('new tfrecord file: ' + path_tfrecord_file)\n",
    "    writer_tfrecord = tf.python_io.TFRecordWriter(path_tfrecord_file)\n",
    "    path_image_files = tf.gfile.Glob(os.path.join(file_path, '*.png'))\n",
    "    num_files = len(path_image_files)\n",
    "    num_examples = 0\n",
    "    print(str(num_files) + ' total image files in ' + file_path)\n",
    "    for i, path_image_file in enumerate(path_image_files):\n",
    "        tf_example = convert_mat_file(path_image_file , path_mat_file)\n",
    "        if tf_example is None:\n",
    "            continue\n",
    "        else:\n",
    "            writer_tfrecord.write(tf_example.SerializeToString())\n",
    "            num_examples += 1\n",
    "    print(str(num_examples) + ' total image files in'+ file_path + ' have been processed')\n",
    "    writer_tfrecord.close()"
   ]
  },
  {
   "cell_type": "code",
   "execution_count": null,
   "metadata": {
    "collapsed": false
   },
   "outputs": [],
   "source": [
    "convert_to_tfrecord(path_train)\n",
    "convert_to_tfrecord(path_test)\n",
    "convert_to_tfrecord(path_extra)"
   ]
  },
  {
   "cell_type": "code",
   "execution_count": null,
   "metadata": {
    "collapsed": false
   },
   "outputs": [],
   "source": []
  },
  {
   "cell_type": "code",
   "execution_count": null,
   "metadata": {
    "collapsed": false
   },
   "outputs": [],
   "source": []
  },
  {
   "cell_type": "code",
   "execution_count": null,
   "metadata": {
    "collapsed": false
   },
   "outputs": [],
   "source": []
  },
  {
   "cell_type": "code",
   "execution_count": null,
   "metadata": {
    "collapsed": false
   },
   "outputs": [],
   "source": []
  },
  {
   "cell_type": "code",
   "execution_count": null,
   "metadata": {
    "collapsed": true
   },
   "outputs": [],
   "source": []
  }
 ],
 "metadata": {
  "anaconda-cloud": {},
  "kernelspec": {
   "display_name": "Python [conda root]",
   "language": "python",
   "name": "conda-root-py"
  },
  "language_info": {
   "codemirror_mode": {
    "name": "ipython",
    "version": 2
   },
   "file_extension": ".py",
   "mimetype": "text/x-python",
   "name": "python",
   "nbconvert_exporter": "python",
   "pygments_lexer": "ipython2",
   "version": "2.7.12"
  }
 },
 "nbformat": 4,
 "nbformat_minor": 2
}

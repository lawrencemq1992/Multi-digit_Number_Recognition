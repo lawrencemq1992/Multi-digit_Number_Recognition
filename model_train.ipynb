{
 "cells": [
  {
   "cell_type": "code",
   "execution_count": 1,
   "metadata": {
    "collapsed": false
   },
   "outputs": [],
   "source": [
    "import os\n",
    "from datetime import datetime\n",
    "import time\n",
    "import tensorflow as tf\n",
    "from utils import Utils\n",
    "from models import Models\n",
    "import json"
   ]
  },
  {
   "cell_type": "code",
   "execution_count": 3,
   "metadata": {
    "collapsed": true
   },
   "outputs": [],
   "source": [
    "path_tfrecords = 'data/tfrecords'\n",
    "path_results = 'data/results'"
   ]
  },
  {
   "cell_type": "code",
   "execution_count": 4,
   "metadata": {
    "collapsed": false
   },
   "outputs": [],
   "source": [
    "with open(os.path.join(path_tfrecords, 'meta.json'), 'r') as f:\n",
    "    content = json.load(f)\n",
    "    num_train = content['num_examples']['train']\n",
    "    num_test = content['num_examples']['test']\n",
    "    num_extra = content['num_examples']['extra']"
   ]
  },
  {
   "cell_type": "code",
   "execution_count": 5,
   "metadata": {
    "collapsed": true
   },
   "outputs": [],
   "source": [
    "training_options = {\n",
    "    'batch_size': 32,\n",
    "    'learning_rate': 0.01,\n",
    "    'patience': 100,\n",
    "    'decay_steps': 10000,\n",
    "    'decay_rate': 0.9\n",
    "}\n",
    "init_patience = training_options['patience']"
   ]
  },
  {
   "cell_type": "code",
   "execution_count": null,
   "metadata": {
    "collapsed": false
   },
   "outputs": [],
   "source": [
    "with tf.Graph().as_default():\n",
    "    image_batch, length_batch, digits_batch = Utils.build_batch(\n",
    "        os.path.join(path_tfrecords, 'train.tfrecords'), num_train, training_options['batch_size'], True) # shuffled = True  \n",
    "    length, digits = Models.cnn_inference(image_batch, 0.2) # drop_rate = 0.2\n",
    "    loss = Models.cnn_loss(length, digits, length_batch, digits_batch)\n",
    "    tf_step = tf.Variable(0, name='tf_step', trainable=False)\n",
    "    learning_rate = tf.train.exponential_decay(\n",
    "        training_options['learning_rate'], \n",
    "        global_step=tf_step, \n",
    "        decay_steps=training_options['decay_steps'], \n",
    "        decay_rate=training_options['decay_rate'], \n",
    "        staircase=True)\n",
    "    optimizer = tf.train.AdamOptimizer(learning_rate)\n",
    "    train_optimizer = optimizer.minimize(loss, global_step=tf_step)\n",
    "    tf.summary.image('image', image_batch)\n",
    "    tf.summary.scalar('loss', loss)\n",
    "    tf.summary.scalar('learning_rate', learning_rate)\n",
    "    summary = tf.summary.merge_all()\n",
    "    with tf.Session() as sess:\n",
    "        summary_writer = tf.summary.FileWriter(os.path.join(path_results, 'train'), sess.graph)\n",
    "        sess.run(tf.global_variables_initializer())\n",
    "        coordinator = tf.train.Coordinator()\n",
    "        threads = tf.train.start_queue_runners(sess=sess, coord=coordinator)\n",
    "        print('Training')\n",
    "        patience = initial_patience\n",
    "        best_accuracy = 0.0\n",
    "        while True:\n",
    "            _, loss_result, summary_result, tf_step_result, learning_rate_result = sess.run(\n",
    "                [train_optimizer, loss, summary, tf_step, learning_rate])\n",
    "            summary_writer.add_summary(summary_result, global_step=tf_step_result)\n",
    "            print('Validation')\n",
    "            accuracy = Models.evaluate(path_results, num_extra, tf_step_result)           \n",
    "            if accuracy > best_accuracy:\n",
    "                patience = initial_patience\n",
    "                best_accuracy = accuracy\n",
    "            else:\n",
    "                patience -= 1\n",
    "            if patience == 0:\n",
    "                break\n",
    "        coordinator.request_stop()\n",
    "        coordinator.join(threads)\n",
    "    print('Done')"
   ]
  },
  {
   "cell_type": "code",
   "execution_count": null,
   "metadata": {
    "collapsed": true
   },
   "outputs": [],
   "source": []
  }
 ],
 "metadata": {
  "anaconda-cloud": {},
  "kernelspec": {
   "display_name": "Python [conda root]",
   "language": "python",
   "name": "conda-root-py"
  },
  "language_info": {
   "codemirror_mode": {
    "name": "ipython",
    "version": 2
   },
   "file_extension": ".py",
   "mimetype": "text/x-python",
   "name": "python",
   "nbconvert_exporter": "python",
   "pygments_lexer": "ipython2",
   "version": "2.7.12"
  }
 },
 "nbformat": 4,
 "nbformat_minor": 2
}
